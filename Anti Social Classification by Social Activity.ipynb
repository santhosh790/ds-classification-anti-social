{
 "cells": [
  {
   "cell_type": "code",
   "execution_count": 1,
   "metadata": {
    "collapsed": true
   },
   "outputs": [],
   "source": [
    "import pandas as pd\n",
    "import numpy as np\n",
    "import seaborn as sns\n",
    "import matplotlib.pyplot as plt\n",
    "%matplotlib inline\n",
    "import warnings\n",
    "warnings.filterwarnings(\"ignore\")"
   ]
  },
  {
   "cell_type": "code",
   "execution_count": 3,
   "metadata": {
    "collapsed": true
   },
   "outputs": [],
   "source": [
    "test = pd.read_csv(\".../test.csv\")\n",
    "train = pd.read_csv(\".../train.csv\")"
   ]
  },
  {
   "cell_type": "code",
   "execution_count": 4,
   "metadata": {
    "collapsed": true
   },
   "outputs": [],
   "source": [
    "test_original = test.copy()\n",
    "train_original = train.copy()"
   ]
  },
  {
   "cell_type": "code",
   "execution_count": 5,
   "metadata": {
    "collapsed": false
   },
   "outputs": [
    {
     "data": {
      "text/plain": [
       "(Index(['uid', 'total_facebook_statuses', 'account_membership_period',\n",
       "        'service_support_calls', 'number_of_snaps', 'total_whatsapp_charge',\n",
       "        'sub_country_code', 'total_twitter_tweets', 'country',\n",
       "        'total_email_characters', 'email_plan', 'total_whatsapp_msg_characters',\n",
       "        'social_account_number', 'total_whatsapp_msgs', 'total_facebook_charge',\n",
       "        'total_twitter_charge', 'snapchat_plan', 'total_email_charge',\n",
       "        'total_twitter_tweet_characters', 'total_emails',\n",
       "        'total_facebook_status_characters', 'turn_anti_social'],\n",
       "       dtype='object'),\n",
       " Index(['uid', 'total_facebook_statuses', 'account_membership_period',\n",
       "        'service_support_calls', 'number_of_snaps', 'total_whatsapp_charge',\n",
       "        'sub_country_code', 'total_twitter_tweets', 'country',\n",
       "        'total_email_characters', 'email_plan', 'total_whatsapp_msg_characters',\n",
       "        'social_account_number', 'total_whatsapp_msgs', 'total_facebook_charge',\n",
       "        'total_twitter_charge', 'snapchat_plan', 'total_email_charge',\n",
       "        'total_twitter_tweet_characters', 'total_emails',\n",
       "        'total_facebook_status_characters'],\n",
       "       dtype='object'))"
      ]
     },
     "execution_count": 5,
     "metadata": {},
     "output_type": "execute_result"
    }
   ],
   "source": [
    "train.columns,test.columns"
   ]
  },
  {
   "cell_type": "code",
   "execution_count": 6,
   "metadata": {
    "collapsed": false
   },
   "outputs": [
    {
     "data": {
      "text/html": [
       "<div>\n",
       "<style>\n",
       "    .dataframe thead tr:only-child th {\n",
       "        text-align: right;\n",
       "    }\n",
       "\n",
       "    .dataframe thead th {\n",
       "        text-align: left;\n",
       "    }\n",
       "\n",
       "    .dataframe tbody tr th {\n",
       "        vertical-align: top;\n",
       "    }\n",
       "</style>\n",
       "<table border=\"1\" class=\"dataframe\">\n",
       "  <thead>\n",
       "    <tr style=\"text-align: right;\">\n",
       "      <th></th>\n",
       "      <th>uid</th>\n",
       "      <th>total_facebook_statuses</th>\n",
       "      <th>account_membership_period</th>\n",
       "      <th>service_support_calls</th>\n",
       "      <th>number_of_snaps</th>\n",
       "      <th>total_whatsapp_charge</th>\n",
       "      <th>sub_country_code</th>\n",
       "      <th>total_twitter_tweets</th>\n",
       "      <th>country</th>\n",
       "      <th>total_email_characters</th>\n",
       "      <th>...</th>\n",
       "      <th>total_whatsapp_msg_characters</th>\n",
       "      <th>social_account_number</th>\n",
       "      <th>total_whatsapp_msgs</th>\n",
       "      <th>total_facebook_charge</th>\n",
       "      <th>total_twitter_charge</th>\n",
       "      <th>snapchat_plan</th>\n",
       "      <th>total_email_charge</th>\n",
       "      <th>total_twitter_tweet_characters</th>\n",
       "      <th>total_emails</th>\n",
       "      <th>total_facebook_status_characters</th>\n",
       "    </tr>\n",
       "  </thead>\n",
       "  <tbody>\n",
       "    <tr>\n",
       "      <th>0</th>\n",
       "      <td>0</td>\n",
       "      <td>130</td>\n",
       "      <td>100</td>\n",
       "      <td>2</td>\n",
       "      <td>0</td>\n",
       "      <td>2.86</td>\n",
       "      <td>415</td>\n",
       "      <td>69</td>\n",
       "      <td>CT</td>\n",
       "      <td>7.3</td>\n",
       "      <td>...</td>\n",
       "      <td>63.6</td>\n",
       "      <td>389-2114</td>\n",
       "      <td>122</td>\n",
       "      <td>40.09</td>\n",
       "      <td>14.96</td>\n",
       "      <td>no</td>\n",
       "      <td>1.97</td>\n",
       "      <td>176.0</td>\n",
       "      <td>1</td>\n",
       "      <td>235.8</td>\n",
       "    </tr>\n",
       "    <tr>\n",
       "      <th>1</th>\n",
       "      <td>1</td>\n",
       "      <td>91</td>\n",
       "      <td>73</td>\n",
       "      <td>1</td>\n",
       "      <td>0</td>\n",
       "      <td>12.48</td>\n",
       "      <td>415</td>\n",
       "      <td>97</td>\n",
       "      <td>VT</td>\n",
       "      <td>10.3</td>\n",
       "      <td>...</td>\n",
       "      <td>277.3</td>\n",
       "      <td>414-1496</td>\n",
       "      <td>89</td>\n",
       "      <td>37.03</td>\n",
       "      <td>18.75</td>\n",
       "      <td>no</td>\n",
       "      <td>2.78</td>\n",
       "      <td>220.6</td>\n",
       "      <td>6</td>\n",
       "      <td>217.8</td>\n",
       "    </tr>\n",
       "    <tr>\n",
       "      <th>2</th>\n",
       "      <td>2</td>\n",
       "      <td>123</td>\n",
       "      <td>137</td>\n",
       "      <td>2</td>\n",
       "      <td>0</td>\n",
       "      <td>11.73</td>\n",
       "      <td>415</td>\n",
       "      <td>115</td>\n",
       "      <td>NY</td>\n",
       "      <td>11.4</td>\n",
       "      <td>...</td>\n",
       "      <td>260.7</td>\n",
       "      <td>389-2540</td>\n",
       "      <td>98</td>\n",
       "      <td>29.58</td>\n",
       "      <td>13.71</td>\n",
       "      <td>no</td>\n",
       "      <td>3.08</td>\n",
       "      <td>161.3</td>\n",
       "      <td>3</td>\n",
       "      <td>174.0</td>\n",
       "    </tr>\n",
       "    <tr>\n",
       "      <th>3</th>\n",
       "      <td>3</td>\n",
       "      <td>110</td>\n",
       "      <td>89</td>\n",
       "      <td>1</td>\n",
       "      <td>0</td>\n",
       "      <td>10.23</td>\n",
       "      <td>408</td>\n",
       "      <td>115</td>\n",
       "      <td>DE</td>\n",
       "      <td>12.8</td>\n",
       "      <td>...</td>\n",
       "      <td>227.3</td>\n",
       "      <td>421-9144</td>\n",
       "      <td>106</td>\n",
       "      <td>33.51</td>\n",
       "      <td>14.10</td>\n",
       "      <td>no</td>\n",
       "      <td>3.46</td>\n",
       "      <td>165.9</td>\n",
       "      <td>3</td>\n",
       "      <td>197.1</td>\n",
       "    </tr>\n",
       "    <tr>\n",
       "      <th>4</th>\n",
       "      <td>4</td>\n",
       "      <td>81</td>\n",
       "      <td>27</td>\n",
       "      <td>5</td>\n",
       "      <td>0</td>\n",
       "      <td>7.44</td>\n",
       "      <td>510</td>\n",
       "      <td>101</td>\n",
       "      <td>OR</td>\n",
       "      <td>15.0</td>\n",
       "      <td>...</td>\n",
       "      <td>165.4</td>\n",
       "      <td>355-2840</td>\n",
       "      <td>87</td>\n",
       "      <td>39.46</td>\n",
       "      <td>17.92</td>\n",
       "      <td>no</td>\n",
       "      <td>4.05</td>\n",
       "      <td>210.8</td>\n",
       "      <td>6</td>\n",
       "      <td>232.1</td>\n",
       "    </tr>\n",
       "  </tbody>\n",
       "</table>\n",
       "<p>5 rows × 21 columns</p>\n",
       "</div>"
      ],
      "text/plain": [
       "   uid  total_facebook_statuses  account_membership_period  \\\n",
       "0    0                      130                        100   \n",
       "1    1                       91                         73   \n",
       "2    2                      123                        137   \n",
       "3    3                      110                         89   \n",
       "4    4                       81                         27   \n",
       "\n",
       "   service_support_calls  number_of_snaps  total_whatsapp_charge  \\\n",
       "0                      2                0                   2.86   \n",
       "1                      1                0                  12.48   \n",
       "2                      2                0                  11.73   \n",
       "3                      1                0                  10.23   \n",
       "4                      5                0                   7.44   \n",
       "\n",
       "   sub_country_code  total_twitter_tweets country  total_email_characters  \\\n",
       "0               415                    69      CT                     7.3   \n",
       "1               415                    97      VT                    10.3   \n",
       "2               415                   115      NY                    11.4   \n",
       "3               408                   115      DE                    12.8   \n",
       "4               510                   101      OR                    15.0   \n",
       "\n",
       "                 ...                total_whatsapp_msg_characters  \\\n",
       "0                ...                                         63.6   \n",
       "1                ...                                        277.3   \n",
       "2                ...                                        260.7   \n",
       "3                ...                                        227.3   \n",
       "4                ...                                        165.4   \n",
       "\n",
       "   social_account_number total_whatsapp_msgs  total_facebook_charge  \\\n",
       "0               389-2114                 122                  40.09   \n",
       "1               414-1496                  89                  37.03   \n",
       "2               389-2540                  98                  29.58   \n",
       "3               421-9144                 106                  33.51   \n",
       "4               355-2840                  87                  39.46   \n",
       "\n",
       "   total_twitter_charge  snapchat_plan total_email_charge  \\\n",
       "0                 14.96             no               1.97   \n",
       "1                 18.75             no               2.78   \n",
       "2                 13.71             no               3.08   \n",
       "3                 14.10             no               3.46   \n",
       "4                 17.92             no               4.05   \n",
       "\n",
       "   total_twitter_tweet_characters  total_emails  \\\n",
       "0                           176.0             1   \n",
       "1                           220.6             6   \n",
       "2                           161.3             3   \n",
       "3                           165.9             3   \n",
       "4                           210.8             6   \n",
       "\n",
       "   total_facebook_status_characters  \n",
       "0                             235.8  \n",
       "1                             217.8  \n",
       "2                             174.0  \n",
       "3                             197.1  \n",
       "4                             232.1  \n",
       "\n",
       "[5 rows x 21 columns]"
      ]
     },
     "execution_count": 6,
     "metadata": {},
     "output_type": "execute_result"
    }
   ],
   "source": [
    "test.head()"
   ]
  },
  {
   "cell_type": "code",
   "execution_count": 7,
   "metadata": {
    "collapsed": false
   },
   "outputs": [
    {
     "data": {
      "text/html": [
       "<div>\n",
       "<style>\n",
       "    .dataframe thead tr:only-child th {\n",
       "        text-align: right;\n",
       "    }\n",
       "\n",
       "    .dataframe thead th {\n",
       "        text-align: left;\n",
       "    }\n",
       "\n",
       "    .dataframe tbody tr th {\n",
       "        vertical-align: top;\n",
       "    }\n",
       "</style>\n",
       "<table border=\"1\" class=\"dataframe\">\n",
       "  <thead>\n",
       "    <tr style=\"text-align: right;\">\n",
       "      <th></th>\n",
       "      <th>uid</th>\n",
       "      <th>total_facebook_statuses</th>\n",
       "      <th>account_membership_period</th>\n",
       "      <th>service_support_calls</th>\n",
       "      <th>number_of_snaps</th>\n",
       "      <th>total_whatsapp_charge</th>\n",
       "      <th>sub_country_code</th>\n",
       "      <th>total_twitter_tweets</th>\n",
       "      <th>country</th>\n",
       "      <th>total_email_characters</th>\n",
       "      <th>...</th>\n",
       "      <th>social_account_number</th>\n",
       "      <th>total_whatsapp_msgs</th>\n",
       "      <th>total_facebook_charge</th>\n",
       "      <th>total_twitter_charge</th>\n",
       "      <th>snapchat_plan</th>\n",
       "      <th>total_email_charge</th>\n",
       "      <th>total_twitter_tweet_characters</th>\n",
       "      <th>total_emails</th>\n",
       "      <th>total_facebook_status_characters</th>\n",
       "      <th>turn_anti_social</th>\n",
       "    </tr>\n",
       "  </thead>\n",
       "  <tbody>\n",
       "    <tr>\n",
       "      <th>0</th>\n",
       "      <td>0</td>\n",
       "      <td>84</td>\n",
       "      <td>141</td>\n",
       "      <td>0</td>\n",
       "      <td>37</td>\n",
       "      <td>14.69</td>\n",
       "      <td>415</td>\n",
       "      <td>111</td>\n",
       "      <td>WV</td>\n",
       "      <td>11.2</td>\n",
       "      <td>...</td>\n",
       "      <td>330-8173</td>\n",
       "      <td>97</td>\n",
       "      <td>43.96</td>\n",
       "      <td>18.87</td>\n",
       "      <td>yes</td>\n",
       "      <td>3.02</td>\n",
       "      <td>222.0</td>\n",
       "      <td>5</td>\n",
       "      <td>258.6</td>\n",
       "      <td>0</td>\n",
       "    </tr>\n",
       "    <tr>\n",
       "      <th>1</th>\n",
       "      <td>1</td>\n",
       "      <td>99</td>\n",
       "      <td>108</td>\n",
       "      <td>2</td>\n",
       "      <td>30</td>\n",
       "      <td>NaN</td>\n",
       "      <td>510</td>\n",
       "      <td>113</td>\n",
       "      <td>LA</td>\n",
       "      <td>9.8</td>\n",
       "      <td>...</td>\n",
       "      <td>380-7624</td>\n",
       "      <td>95</td>\n",
       "      <td>47.02</td>\n",
       "      <td>18.71</td>\n",
       "      <td>yes</td>\n",
       "      <td>2.65</td>\n",
       "      <td>220.1</td>\n",
       "      <td>6</td>\n",
       "      <td>276.6</td>\n",
       "      <td>0</td>\n",
       "    </tr>\n",
       "    <tr>\n",
       "      <th>2</th>\n",
       "      <td>2</td>\n",
       "      <td>111</td>\n",
       "      <td>96</td>\n",
       "      <td>1</td>\n",
       "      <td>0</td>\n",
       "      <td>9.22</td>\n",
       "      <td>415</td>\n",
       "      <td>105</td>\n",
       "      <td>MA</td>\n",
       "      <td>9.1</td>\n",
       "      <td>...</td>\n",
       "      <td>359-9369</td>\n",
       "      <td>91</td>\n",
       "      <td>29.56</td>\n",
       "      <td>24.43</td>\n",
       "      <td>no</td>\n",
       "      <td>2.46</td>\n",
       "      <td>287.4</td>\n",
       "      <td>7</td>\n",
       "      <td>173.9</td>\n",
       "      <td>0</td>\n",
       "    </tr>\n",
       "    <tr>\n",
       "      <th>3</th>\n",
       "      <td>3</td>\n",
       "      <td>100</td>\n",
       "      <td>105</td>\n",
       "      <td>0</td>\n",
       "      <td>0</td>\n",
       "      <td>11.04</td>\n",
       "      <td>415</td>\n",
       "      <td>108</td>\n",
       "      <td>NV</td>\n",
       "      <td>7.7</td>\n",
       "      <td>...</td>\n",
       "      <td>376-4540</td>\n",
       "      <td>140</td>\n",
       "      <td>38.83</td>\n",
       "      <td>12.33</td>\n",
       "      <td>no</td>\n",
       "      <td>2.08</td>\n",
       "      <td>145.1</td>\n",
       "      <td>7</td>\n",
       "      <td>228.4</td>\n",
       "      <td>0</td>\n",
       "    </tr>\n",
       "    <tr>\n",
       "      <th>4</th>\n",
       "      <td>4</td>\n",
       "      <td>92</td>\n",
       "      <td>59</td>\n",
       "      <td>1</td>\n",
       "      <td>0</td>\n",
       "      <td>5.15</td>\n",
       "      <td>510</td>\n",
       "      <td>88</td>\n",
       "      <td>CO</td>\n",
       "      <td>12.5</td>\n",
       "      <td>...</td>\n",
       "      <td>331-3842</td>\n",
       "      <td>89</td>\n",
       "      <td>26.11</td>\n",
       "      <td>17.47</td>\n",
       "      <td>no</td>\n",
       "      <td>3.38</td>\n",
       "      <td>205.5</td>\n",
       "      <td>10</td>\n",
       "      <td>153.6</td>\n",
       "      <td>0</td>\n",
       "    </tr>\n",
       "  </tbody>\n",
       "</table>\n",
       "<p>5 rows × 22 columns</p>\n",
       "</div>"
      ],
      "text/plain": [
       "   uid  total_facebook_statuses  account_membership_period  \\\n",
       "0    0                       84                        141   \n",
       "1    1                       99                        108   \n",
       "2    2                      111                         96   \n",
       "3    3                      100                        105   \n",
       "4    4                       92                         59   \n",
       "\n",
       "   service_support_calls  number_of_snaps  total_whatsapp_charge  \\\n",
       "0                      0               37                  14.69   \n",
       "1                      2               30                    NaN   \n",
       "2                      1                0                   9.22   \n",
       "3                      0                0                  11.04   \n",
       "4                      1                0                   5.15   \n",
       "\n",
       "   sub_country_code  total_twitter_tweets country  total_email_characters  \\\n",
       "0               415                   111      WV                    11.2   \n",
       "1               510                   113      LA                     9.8   \n",
       "2               415                   105      MA                     9.1   \n",
       "3               415                   108      NV                     7.7   \n",
       "4               510                    88      CO                    12.5   \n",
       "\n",
       "         ...        social_account_number  total_whatsapp_msgs  \\\n",
       "0        ...                     330-8173                   97   \n",
       "1        ...                     380-7624                   95   \n",
       "2        ...                     359-9369                   91   \n",
       "3        ...                     376-4540                  140   \n",
       "4        ...                     331-3842                   89   \n",
       "\n",
       "  total_facebook_charge  total_twitter_charge  snapchat_plan  \\\n",
       "0                 43.96                 18.87            yes   \n",
       "1                 47.02                 18.71            yes   \n",
       "2                 29.56                 24.43             no   \n",
       "3                 38.83                 12.33             no   \n",
       "4                 26.11                 17.47             no   \n",
       "\n",
       "   total_email_charge total_twitter_tweet_characters  total_emails  \\\n",
       "0                3.02                          222.0             5   \n",
       "1                2.65                          220.1             6   \n",
       "2                2.46                          287.4             7   \n",
       "3                2.08                          145.1             7   \n",
       "4                3.38                          205.5            10   \n",
       "\n",
       "   total_facebook_status_characters  turn_anti_social  \n",
       "0                             258.6                 0  \n",
       "1                             276.6                 0  \n",
       "2                             173.9                 0  \n",
       "3                             228.4                 0  \n",
       "4                             153.6                 0  \n",
       "\n",
       "[5 rows x 22 columns]"
      ]
     },
     "execution_count": 7,
     "metadata": {},
     "output_type": "execute_result"
    }
   ],
   "source": [
    "train.head()"
   ]
  },
  {
   "cell_type": "code",
   "execution_count": 8,
   "metadata": {
    "collapsed": false
   },
   "outputs": [
    {
     "data": {
      "text/html": [
       "<div>\n",
       "<style>\n",
       "    .dataframe thead tr:only-child th {\n",
       "        text-align: right;\n",
       "    }\n",
       "\n",
       "    .dataframe thead th {\n",
       "        text-align: left;\n",
       "    }\n",
       "\n",
       "    .dataframe tbody tr th {\n",
       "        vertical-align: top;\n",
       "    }\n",
       "</style>\n",
       "<table border=\"1\" class=\"dataframe\">\n",
       "  <thead>\n",
       "    <tr style=\"text-align: right;\">\n",
       "      <th></th>\n",
       "      <th>uid</th>\n",
       "      <th>total_facebook_statuses</th>\n",
       "      <th>account_membership_period</th>\n",
       "      <th>service_support_calls</th>\n",
       "      <th>number_of_snaps</th>\n",
       "      <th>total_whatsapp_charge</th>\n",
       "      <th>sub_country_code</th>\n",
       "      <th>total_twitter_tweets</th>\n",
       "      <th>country</th>\n",
       "      <th>total_email_characters</th>\n",
       "      <th>...</th>\n",
       "      <th>social_account_number</th>\n",
       "      <th>total_whatsapp_msgs</th>\n",
       "      <th>total_facebook_charge</th>\n",
       "      <th>total_twitter_charge</th>\n",
       "      <th>snapchat_plan</th>\n",
       "      <th>total_email_charge</th>\n",
       "      <th>total_twitter_tweet_characters</th>\n",
       "      <th>total_emails</th>\n",
       "      <th>total_facebook_status_characters</th>\n",
       "      <th>turn_anti_social</th>\n",
       "    </tr>\n",
       "  </thead>\n",
       "  <tbody>\n",
       "    <tr>\n",
       "      <th>1851</th>\n",
       "      <td>1851</td>\n",
       "      <td>134</td>\n",
       "      <td>142</td>\n",
       "      <td>0</td>\n",
       "      <td>0</td>\n",
       "      <td>6.21</td>\n",
       "      <td>408</td>\n",
       "      <td>106</td>\n",
       "      <td>MA</td>\n",
       "      <td>8.3</td>\n",
       "      <td>...</td>\n",
       "      <td>343-1009</td>\n",
       "      <td>108</td>\n",
       "      <td>36.86</td>\n",
       "      <td>15.96</td>\n",
       "      <td>no</td>\n",
       "      <td>2.24</td>\n",
       "      <td>187.8</td>\n",
       "      <td>2</td>\n",
       "      <td>216.8</td>\n",
       "      <td>0</td>\n",
       "    </tr>\n",
       "    <tr>\n",
       "      <th>1243</th>\n",
       "      <td>1243</td>\n",
       "      <td>93</td>\n",
       "      <td>6</td>\n",
       "      <td>3</td>\n",
       "      <td>0</td>\n",
       "      <td>7.40</td>\n",
       "      <td>408</td>\n",
       "      <td>122</td>\n",
       "      <td>OR</td>\n",
       "      <td>9.4</td>\n",
       "      <td>...</td>\n",
       "      <td>408-1331</td>\n",
       "      <td>98</td>\n",
       "      <td>38.51</td>\n",
       "      <td>12.93</td>\n",
       "      <td>no</td>\n",
       "      <td>2.54</td>\n",
       "      <td>152.1</td>\n",
       "      <td>4</td>\n",
       "      <td>NaN</td>\n",
       "      <td>0</td>\n",
       "    </tr>\n",
       "    <tr>\n",
       "      <th>1244</th>\n",
       "      <td>1244</td>\n",
       "      <td>133</td>\n",
       "      <td>120</td>\n",
       "      <td>0</td>\n",
       "      <td>0</td>\n",
       "      <td>11.54</td>\n",
       "      <td>415</td>\n",
       "      <td>149</td>\n",
       "      <td>TN</td>\n",
       "      <td>16.9</td>\n",
       "      <td>...</td>\n",
       "      <td>412-3404</td>\n",
       "      <td>78</td>\n",
       "      <td>31.57</td>\n",
       "      <td>19.98</td>\n",
       "      <td>no</td>\n",
       "      <td>4.56</td>\n",
       "      <td>235.1</td>\n",
       "      <td>6</td>\n",
       "      <td>185.7</td>\n",
       "      <td>0</td>\n",
       "    </tr>\n",
       "    <tr>\n",
       "      <th>1683</th>\n",
       "      <td>1683</td>\n",
       "      <td>115</td>\n",
       "      <td>110</td>\n",
       "      <td>1</td>\n",
       "      <td>0</td>\n",
       "      <td>8.71</td>\n",
       "      <td>510</td>\n",
       "      <td>84</td>\n",
       "      <td>DE</td>\n",
       "      <td>12.4</td>\n",
       "      <td>...</td>\n",
       "      <td>346-2359</td>\n",
       "      <td>112</td>\n",
       "      <td>25.25</td>\n",
       "      <td>23.49</td>\n",
       "      <td>no</td>\n",
       "      <td>3.35</td>\n",
       "      <td>276.4</td>\n",
       "      <td>3</td>\n",
       "      <td>148.5</td>\n",
       "      <td>0</td>\n",
       "    </tr>\n",
       "    <tr>\n",
       "      <th>149</th>\n",
       "      <td>149</td>\n",
       "      <td>109</td>\n",
       "      <td>38</td>\n",
       "      <td>5</td>\n",
       "      <td>0</td>\n",
       "      <td>6.21</td>\n",
       "      <td>510</td>\n",
       "      <td>97</td>\n",
       "      <td>MN</td>\n",
       "      <td>9.2</td>\n",
       "      <td>...</td>\n",
       "      <td>399-5291</td>\n",
       "      <td>109</td>\n",
       "      <td>29.87</td>\n",
       "      <td>18.00</td>\n",
       "      <td>no</td>\n",
       "      <td>2.48</td>\n",
       "      <td>211.8</td>\n",
       "      <td>3</td>\n",
       "      <td>NaN</td>\n",
       "      <td>1</td>\n",
       "    </tr>\n",
       "    <tr>\n",
       "      <th>2191</th>\n",
       "      <td>2191</td>\n",
       "      <td>57</td>\n",
       "      <td>168</td>\n",
       "      <td>2</td>\n",
       "      <td>42</td>\n",
       "      <td>7.83</td>\n",
       "      <td>415</td>\n",
       "      <td>98</td>\n",
       "      <td>MO</td>\n",
       "      <td>11.4</td>\n",
       "      <td>...</td>\n",
       "      <td>339-9026</td>\n",
       "      <td>124</td>\n",
       "      <td>16.56</td>\n",
       "      <td>17.31</td>\n",
       "      <td>yes</td>\n",
       "      <td>3.08</td>\n",
       "      <td>203.6</td>\n",
       "      <td>2</td>\n",
       "      <td>97.4</td>\n",
       "      <td>0</td>\n",
       "    </tr>\n",
       "    <tr>\n",
       "      <th>1799</th>\n",
       "      <td>1799</td>\n",
       "      <td>102</td>\n",
       "      <td>124</td>\n",
       "      <td>3</td>\n",
       "      <td>0</td>\n",
       "      <td>10.79</td>\n",
       "      <td>415</td>\n",
       "      <td>120</td>\n",
       "      <td>WY</td>\n",
       "      <td>10.9</td>\n",
       "      <td>...</td>\n",
       "      <td>422-8344</td>\n",
       "      <td>119</td>\n",
       "      <td>30.31</td>\n",
       "      <td>19.98</td>\n",
       "      <td>no</td>\n",
       "      <td>2.94</td>\n",
       "      <td>235.0</td>\n",
       "      <td>1</td>\n",
       "      <td>178.3</td>\n",
       "      <td>0</td>\n",
       "    </tr>\n",
       "    <tr>\n",
       "      <th>1594</th>\n",
       "      <td>1594</td>\n",
       "      <td>88</td>\n",
       "      <td>95</td>\n",
       "      <td>3</td>\n",
       "      <td>0</td>\n",
       "      <td>8.65</td>\n",
       "      <td>510</td>\n",
       "      <td>75</td>\n",
       "      <td>MT</td>\n",
       "      <td>NaN</td>\n",
       "      <td>...</td>\n",
       "      <td>394-8006</td>\n",
       "      <td>115</td>\n",
       "      <td>26.62</td>\n",
       "      <td>21.05</td>\n",
       "      <td>no</td>\n",
       "      <td>3.32</td>\n",
       "      <td>247.6</td>\n",
       "      <td>5</td>\n",
       "      <td>156.6</td>\n",
       "      <td>0</td>\n",
       "    </tr>\n",
       "    <tr>\n",
       "      <th>240</th>\n",
       "      <td>240</td>\n",
       "      <td>81</td>\n",
       "      <td>97</td>\n",
       "      <td>0</td>\n",
       "      <td>0</td>\n",
       "      <td>6.78</td>\n",
       "      <td>408</td>\n",
       "      <td>51</td>\n",
       "      <td>MA</td>\n",
       "      <td>4.2</td>\n",
       "      <td>...</td>\n",
       "      <td>402-2728</td>\n",
       "      <td>110</td>\n",
       "      <td>36.99</td>\n",
       "      <td>27.24</td>\n",
       "      <td>no</td>\n",
       "      <td>1.13</td>\n",
       "      <td>320.5</td>\n",
       "      <td>3</td>\n",
       "      <td>217.6</td>\n",
       "      <td>0</td>\n",
       "    </tr>\n",
       "    <tr>\n",
       "      <th>833</th>\n",
       "      <td>833</td>\n",
       "      <td>83</td>\n",
       "      <td>64</td>\n",
       "      <td>1</td>\n",
       "      <td>0</td>\n",
       "      <td>2.59</td>\n",
       "      <td>510</td>\n",
       "      <td>109</td>\n",
       "      <td>NJ</td>\n",
       "      <td>14.2</td>\n",
       "      <td>...</td>\n",
       "      <td>391-4652</td>\n",
       "      <td>122</td>\n",
       "      <td>27.64</td>\n",
       "      <td>12.95</td>\n",
       "      <td>no</td>\n",
       "      <td>3.83</td>\n",
       "      <td>152.3</td>\n",
       "      <td>3</td>\n",
       "      <td>NaN</td>\n",
       "      <td>0</td>\n",
       "    </tr>\n",
       "  </tbody>\n",
       "</table>\n",
       "<p>10 rows × 22 columns</p>\n",
       "</div>"
      ],
      "text/plain": [
       "       uid  total_facebook_statuses  account_membership_period  \\\n",
       "1851  1851                      134                        142   \n",
       "1243  1243                       93                          6   \n",
       "1244  1244                      133                        120   \n",
       "1683  1683                      115                        110   \n",
       "149    149                      109                         38   \n",
       "2191  2191                       57                        168   \n",
       "1799  1799                      102                        124   \n",
       "1594  1594                       88                         95   \n",
       "240    240                       81                         97   \n",
       "833    833                       83                         64   \n",
       "\n",
       "      service_support_calls  number_of_snaps  total_whatsapp_charge  \\\n",
       "1851                      0                0                   6.21   \n",
       "1243                      3                0                   7.40   \n",
       "1244                      0                0                  11.54   \n",
       "1683                      1                0                   8.71   \n",
       "149                       5                0                   6.21   \n",
       "2191                      2               42                   7.83   \n",
       "1799                      3                0                  10.79   \n",
       "1594                      3                0                   8.65   \n",
       "240                       0                0                   6.78   \n",
       "833                       1                0                   2.59   \n",
       "\n",
       "      sub_country_code  total_twitter_tweets country  total_email_characters  \\\n",
       "1851               408                   106      MA                     8.3   \n",
       "1243               408                   122      OR                     9.4   \n",
       "1244               415                   149      TN                    16.9   \n",
       "1683               510                    84      DE                    12.4   \n",
       "149                510                    97      MN                     9.2   \n",
       "2191               415                    98      MO                    11.4   \n",
       "1799               415                   120      WY                    10.9   \n",
       "1594               510                    75      MT                     NaN   \n",
       "240                408                    51      MA                     4.2   \n",
       "833                510                   109      NJ                    14.2   \n",
       "\n",
       "            ...        social_account_number  total_whatsapp_msgs  \\\n",
       "1851        ...                     343-1009                  108   \n",
       "1243        ...                     408-1331                   98   \n",
       "1244        ...                     412-3404                   78   \n",
       "1683        ...                     346-2359                  112   \n",
       "149         ...                     399-5291                  109   \n",
       "2191        ...                     339-9026                  124   \n",
       "1799        ...                     422-8344                  119   \n",
       "1594        ...                     394-8006                  115   \n",
       "240         ...                     402-2728                  110   \n",
       "833         ...                     391-4652                  122   \n",
       "\n",
       "     total_facebook_charge  total_twitter_charge  snapchat_plan  \\\n",
       "1851                 36.86                 15.96             no   \n",
       "1243                 38.51                 12.93             no   \n",
       "1244                 31.57                 19.98             no   \n",
       "1683                 25.25                 23.49             no   \n",
       "149                  29.87                 18.00             no   \n",
       "2191                 16.56                 17.31            yes   \n",
       "1799                 30.31                 19.98             no   \n",
       "1594                 26.62                 21.05             no   \n",
       "240                  36.99                 27.24             no   \n",
       "833                  27.64                 12.95             no   \n",
       "\n",
       "      total_email_charge total_twitter_tweet_characters  total_emails  \\\n",
       "1851                2.24                          187.8             2   \n",
       "1243                2.54                          152.1             4   \n",
       "1244                4.56                          235.1             6   \n",
       "1683                3.35                          276.4             3   \n",
       "149                 2.48                          211.8             3   \n",
       "2191                3.08                          203.6             2   \n",
       "1799                2.94                          235.0             1   \n",
       "1594                3.32                          247.6             5   \n",
       "240                 1.13                          320.5             3   \n",
       "833                 3.83                          152.3             3   \n",
       "\n",
       "      total_facebook_status_characters  turn_anti_social  \n",
       "1851                             216.8                 0  \n",
       "1243                               NaN                 0  \n",
       "1244                             185.7                 0  \n",
       "1683                             148.5                 0  \n",
       "149                                NaN                 1  \n",
       "2191                              97.4                 0  \n",
       "1799                             178.3                 0  \n",
       "1594                             156.6                 0  \n",
       "240                              217.6                 0  \n",
       "833                                NaN                 0  \n",
       "\n",
       "[10 rows x 22 columns]"
      ]
     },
     "execution_count": 8,
     "metadata": {},
     "output_type": "execute_result"
    }
   ],
   "source": [
    "train.sample(10)"
   ]
  },
  {
   "cell_type": "code",
   "execution_count": 9,
   "metadata": {
    "collapsed": false
   },
   "outputs": [
    {
     "data": {
      "text/plain": [
       "<matplotlib.axes._subplots.AxesSubplot at 0x18c52b1518>"
      ]
     },
     "execution_count": 9,
     "metadata": {},
     "output_type": "execute_result"
    },
    {
     "data": {
      "image/png": "[encoded data removed]",
      "text/plain": [
       "<Figure size 432x288 with 1 Axes>"
      ]
     },
     "metadata": {},
     "output_type": "display_data"
    }
   ],
   "source": [
    "train['turn_anti_social'].value_counts()\n",
    "train['turn_anti_social'].value_counts().plot.bar()"
   ]
  },
  {
   "cell_type": "markdown",
   "metadata": {},
   "source": [
    "# Categorical variable\n",
    "email_plan and snap_plan are the categorical variables in datasets"
   ]
  },
  {
   "cell_type": "code",
   "execution_count": 10,
   "metadata": {
    "collapsed": false
   },
   "outputs": [
    {
     "data": {
      "text/plain": [
       "<matplotlib.axes._subplots.AxesSubplot at 0x18c66beba8>"
      ]
     },
     "execution_count": 10,
     "metadata": {},
     "output_type": "execute_result"
    },
    {
     "data": {
      "image/png": "[encoded data removed]",
      "text/plain": [
       "<Figure size 1440x720 with 2 Axes>"
      ]
     },
     "metadata": {},
     "output_type": "display_data"
    }
   ],
   "source": [
    "plt.figure(1)\n",
    "plt.subplot(121)\n",
    "train['email_plan'].value_counts(normalize=True).plot.bar(figsize=(20,10), title= 'email plan')\n",
    "\n",
    "plt.subplot(122)\n",
    "train['snapchat_plan'].value_counts(normalize=True).plot.bar(title= 'snap plan')"
   ]
  },
  {
   "cell_type": "code",
   "execution_count": 11,
   "metadata": {
    "collapsed": false
   },
   "outputs": [
    {
     "data": {
      "image/png": "[encoded data removed]",
      "text/plain": [
       "<Figure size 1152x360 with 2 Axes>"
      ]
     },
     "metadata": {},
     "output_type": "display_data"
    }
   ],
   "source": [
    "plt.figure(1)\n",
    "plt.subplot(121)\n",
    "sns.distplot(train['total_email_charge']);\n",
    "\n",
    "plt.subplot(122)\n",
    "train['total_email_charge'].plot.box(figsize=(16,5))\n",
    "\n",
    "plt.show()"
   ]
  },
  {
   "cell_type": "code",
   "execution_count": 12,
   "metadata": {
    "collapsed": false
   },
   "outputs": [
    {
     "data": {
      "image/png": "[encoded data removed]",
      "text/plain": [
       "<Figure size 1152x360 with 2 Axes>"
      ]
     },
     "metadata": {},
     "output_type": "display_data"
    }
   ],
   "source": [
    "plt.figure(1)\n",
    "plt.subplot(121)\n",
    "sns.distplot(train['account_membership_period']);\n",
    "\n",
    "plt.subplot(122)\n",
    "train['account_membership_period'].plot.box(figsize=(16,5))\n",
    "\n",
    "plt.show()"
   ]
  },
  {
   "cell_type": "code",
   "execution_count": 13,
   "metadata": {
    "collapsed": false
   },
   "outputs": [
    {
     "data": {
      "text/plain": [
       "uid                                   0\n",
       "total_facebook_statuses               0\n",
       "account_membership_period             0\n",
       "service_support_calls                 0\n",
       "number_of_snaps                       0\n",
       "total_whatsapp_charge               212\n",
       "sub_country_code                      0\n",
       "total_twitter_tweets                  0\n",
       "country                               0\n",
       "total_email_characters              217\n",
       "email_plan                            0\n",
       "total_whatsapp_msg_characters         0\n",
       "social_account_number                 0\n",
       "total_whatsapp_msgs                   0\n",
       "total_facebook_charge                 0\n",
       "total_twitter_charge                  0\n",
       "snapchat_plan                         0\n",
       "total_email_charge                    0\n",
       "total_twitter_tweet_characters      214\n",
       "total_emails                          0\n",
       "total_facebook_status_characters    215\n",
       "turn_anti_social                      0\n",
       "dtype: int64"
      ]
     },
     "execution_count": 13,
     "metadata": {},
     "output_type": "execute_result"
    }
   ],
   "source": [
    "train.isnull().sum()"
   ]
  },
  {
   "cell_type": "code",
   "execution_count": 14,
   "metadata": {
    "collapsed": false
   },
   "outputs": [
    {
     "data": {
      "text/plain": [
       "((2233, 22), (1100, 21))"
      ]
     },
     "execution_count": 14,
     "metadata": {},
     "output_type": "execute_result"
    }
   ],
   "source": [
    "train.shape, test.shape"
   ]
  },
  {
   "cell_type": "code",
   "execution_count": 15,
   "metadata": {
    "collapsed": false
   },
   "outputs": [
    {
     "data": {
      "text/plain": [
       "uid                                 0\n",
       "total_facebook_statuses             0\n",
       "account_membership_period           0\n",
       "service_support_calls               0\n",
       "number_of_snaps                     0\n",
       "total_whatsapp_charge               0\n",
       "sub_country_code                    0\n",
       "total_twitter_tweets                0\n",
       "country                             0\n",
       "total_email_characters              0\n",
       "email_plan                          0\n",
       "total_whatsapp_msg_characters       0\n",
       "social_account_number               0\n",
       "total_whatsapp_msgs                 0\n",
       "total_facebook_charge               0\n",
       "total_twitter_charge                0\n",
       "snapchat_plan                       0\n",
       "total_email_charge                  0\n",
       "total_twitter_tweet_characters      0\n",
       "total_emails                        0\n",
       "total_facebook_status_characters    0\n",
       "dtype: int64"
      ]
     },
     "execution_count": 15,
     "metadata": {},
     "output_type": "execute_result"
    }
   ],
   "source": [
    "test.isnull().sum()"
   ]
  },
  {
   "cell_type": "code",
   "execution_count": 16,
   "metadata": {
    "collapsed": true
   },
   "outputs": [],
   "source": [
    "train['total_social_share'] = train['total_facebook_statuses']+train['total_twitter_tweets']+train['total_emails']+train['number_of_snaps']+train['total_whatsapp_msgs']"
   ]
  },
  {
   "cell_type": "code",
   "execution_count": 17,
   "metadata": {
    "collapsed": false
   },
   "outputs": [
    {
     "data": {
      "text/plain": [
       "0       334\n",
       "1       343\n",
       "2       314\n",
       "3       355\n",
       "4       279\n",
       "5       249\n",
       "6       316\n",
       "7       314\n",
       "8       273\n",
       "9       270\n",
       "10      348\n",
       "11      384\n",
       "12      328\n",
       "13      314\n",
       "14      298\n",
       "15      311\n",
       "16      343\n",
       "17      325\n",
       "18      368\n",
       "19      274\n",
       "20      306\n",
       "21      337\n",
       "22      345\n",
       "23      297\n",
       "24      245\n",
       "25      360\n",
       "26      316\n",
       "27      274\n",
       "28      302\n",
       "29      369\n",
       "       ... \n",
       "2203    384\n",
       "2204    229\n",
       "2205    346\n",
       "2206    308\n",
       "2207    302\n",
       "2208    305\n",
       "2209    329\n",
       "2210    356\n",
       "2211    254\n",
       "2212    308\n",
       "2213    242\n",
       "2214    344\n",
       "2215    319\n",
       "2216    306\n",
       "2217    296\n",
       "2218    385\n",
       "2219    334\n",
       "2220    263\n",
       "2221    366\n",
       "2222    364\n",
       "2223    282\n",
       "2224    322\n",
       "2225    307\n",
       "2226    339\n",
       "2227    279\n",
       "2228    293\n",
       "2229    345\n",
       "2230    343\n",
       "2231    289\n",
       "2232    341\n",
       "Name: total_social_share, Length: 2233, dtype: int64"
      ]
     },
     "execution_count": 17,
     "metadata": {},
     "output_type": "execute_result"
    }
   ],
   "source": [
    "train['total_social_share']"
   ]
  },
  {
   "cell_type": "code",
   "execution_count": 18,
   "metadata": {
    "collapsed": false
   },
   "outputs": [
    {
     "data": {
      "text/plain": [
       "<matplotlib.axes._subplots.AxesSubplot at 0x18c6ba5f60>"
      ]
     },
     "execution_count": 18,
     "metadata": {},
     "output_type": "execute_result"
    },
    {
     "data": {
      "image/png": "[encoded data removed]",
      "text/plain": [
       "<Figure size 288x288 with 1 Axes>"
      ]
     },
     "metadata": {},
     "output_type": "display_data"
    }
   ],
   "source": [
    "social_share=pd.crosstab(train['total_social_share'],train['turn_anti_social'])\n",
    "social_share.div(social_share.sum(1).astype(float), axis=0).plot(kind=\"bar\", stacked=True, figsize=(4,4))"
   ]
  },
  {
   "cell_type": "code",
   "execution_count": 19,
   "metadata": {
    "collapsed": false
   },
   "outputs": [
    {
     "data": {
      "text/plain": [
       "<matplotlib.axes._subplots.AxesSubplot at 0x18c6df0f28>"
      ]
     },
     "execution_count": 19,
     "metadata": {},
     "output_type": "execute_result"
    },
    {
     "data": {
      "image/png": "[encoded data removed]",
      "text/plain": [
       "<Figure size 432x288 with 1 Axes>"
      ]
     },
     "metadata": {},
     "output_type": "display_data"
    }
   ],
   "source": [
    "sns.distplot(train['total_social_share'])"
   ]
  },
  {
   "cell_type": "code",
   "execution_count": 20,
   "metadata": {
    "collapsed": false
   },
   "outputs": [
    {
     "data": {
      "text/plain": [
       "<matplotlib.axes._subplots.AxesSubplot at 0x18c6a752b0>"
      ]
     },
     "execution_count": 20,
     "metadata": {},
     "output_type": "execute_result"
    },
    {
     "data": {
      "image/png": "[encoded data removed]",
      "text/plain": [
       "<Figure size 432x288 with 1 Axes>"
      ]
     },
     "metadata": {},
     "output_type": "display_data"
    }
   ],
   "source": [
    "train.groupby('turn_anti_social')['total_social_share'].mean().plot.bar()"
   ]
  },
  {
   "cell_type": "code",
   "execution_count": 21,
   "metadata": {
    "collapsed": false
   },
   "outputs": [
    {
     "data": {
      "text/plain": [
       "Text(0, 0.5, 'Percentage')"
      ]
     },
     "execution_count": 21,
     "metadata": {},
     "output_type": "execute_result"
    },
    {
     "data": {
      "image/png": "[encoded data removed]",
      "text/plain": [
       "<Figure size 432x288 with 1 Axes>"
      ]
     },
     "metadata": {},
     "output_type": "display_data"
    }
   ],
   "source": [
    "bins=[200,250,300,350,400,450]\n",
    "group=['Low','Average','Mid','High', 'Very high']\n",
    "train['social_share_bin']=pd.cut(train['total_social_share'],bins,labels=group)\n",
    "Income_bin=pd.crosstab(train['social_share_bin'],train['turn_anti_social'])\n",
    "Income_bin.div(Income_bin.sum(1).astype(float), axis=0).plot(kind=\"bar\", stacked=True)\n",
    "plt.xlabel('Social Share')\n",
    "plt.ylabel('Percentage')"
   ]
  },
  {
   "cell_type": "code",
   "execution_count": 22,
   "metadata": {
    "collapsed": false
   },
   "outputs": [
    {
     "data": {
      "text/html": [
       "<div>\n",
       "<style>\n",
       "    .dataframe thead tr:only-child th {\n",
       "        text-align: right;\n",
       "    }\n",
       "\n",
       "    .dataframe thead th {\n",
       "        text-align: left;\n",
       "    }\n",
       "\n",
       "    .dataframe tbody tr th {\n",
       "        vertical-align: top;\n",
       "    }\n",
       "</style>\n",
       "<table border=\"1\" class=\"dataframe\">\n",
       "  <thead>\n",
       "    <tr style=\"text-align: right;\">\n",
       "      <th></th>\n",
       "      <th>uid</th>\n",
       "      <th>total_facebook_statuses</th>\n",
       "      <th>account_membership_period</th>\n",
       "      <th>service_support_calls</th>\n",
       "      <th>number_of_snaps</th>\n",
       "      <th>total_whatsapp_charge</th>\n",
       "      <th>sub_country_code</th>\n",
       "      <th>total_twitter_tweets</th>\n",
       "      <th>country</th>\n",
       "      <th>total_email_characters</th>\n",
       "      <th>...</th>\n",
       "      <th>total_facebook_charge</th>\n",
       "      <th>total_twitter_charge</th>\n",
       "      <th>snapchat_plan</th>\n",
       "      <th>total_email_charge</th>\n",
       "      <th>total_twitter_tweet_characters</th>\n",
       "      <th>total_emails</th>\n",
       "      <th>total_facebook_status_characters</th>\n",
       "      <th>turn_anti_social</th>\n",
       "      <th>total_social_share</th>\n",
       "      <th>social_share_bin</th>\n",
       "    </tr>\n",
       "  </thead>\n",
       "  <tbody>\n",
       "    <tr>\n",
       "      <th>222</th>\n",
       "      <td>222</td>\n",
       "      <td>60</td>\n",
       "      <td>51</td>\n",
       "      <td>1</td>\n",
       "      <td>0</td>\n",
       "      <td>7.59</td>\n",
       "      <td>408</td>\n",
       "      <td>64</td>\n",
       "      <td>WI</td>\n",
       "      <td>8.9</td>\n",
       "      <td>...</td>\n",
       "      <td>33.63</td>\n",
       "      <td>18.79</td>\n",
       "      <td>no</td>\n",
       "      <td>2.40</td>\n",
       "      <td>221.0</td>\n",
       "      <td>5</td>\n",
       "      <td>197.8</td>\n",
       "      <td>0</td>\n",
       "      <td>263</td>\n",
       "      <td>Average</td>\n",
       "    </tr>\n",
       "    <tr>\n",
       "      <th>716</th>\n",
       "      <td>716</td>\n",
       "      <td>151</td>\n",
       "      <td>146</td>\n",
       "      <td>1</td>\n",
       "      <td>0</td>\n",
       "      <td>7.52</td>\n",
       "      <td>415</td>\n",
       "      <td>89</td>\n",
       "      <td>OK</td>\n",
       "      <td>6.1</td>\n",
       "      <td>...</td>\n",
       "      <td>35.07</td>\n",
       "      <td>12.63</td>\n",
       "      <td>no</td>\n",
       "      <td>1.65</td>\n",
       "      <td>148.6</td>\n",
       "      <td>3</td>\n",
       "      <td>206.3</td>\n",
       "      <td>0</td>\n",
       "      <td>334</td>\n",
       "      <td>Mid</td>\n",
       "    </tr>\n",
       "    <tr>\n",
       "      <th>1034</th>\n",
       "      <td>1034</td>\n",
       "      <td>90</td>\n",
       "      <td>97</td>\n",
       "      <td>0</td>\n",
       "      <td>0</td>\n",
       "      <td>10.52</td>\n",
       "      <td>510</td>\n",
       "      <td>127</td>\n",
       "      <td>DE</td>\n",
       "      <td>8.8</td>\n",
       "      <td>...</td>\n",
       "      <td>38.27</td>\n",
       "      <td>23.76</td>\n",
       "      <td>no</td>\n",
       "      <td>2.38</td>\n",
       "      <td>279.5</td>\n",
       "      <td>4</td>\n",
       "      <td>225.1</td>\n",
       "      <td>1</td>\n",
       "      <td>324</td>\n",
       "      <td>Mid</td>\n",
       "    </tr>\n",
       "    <tr>\n",
       "      <th>444</th>\n",
       "      <td>444</td>\n",
       "      <td>137</td>\n",
       "      <td>108</td>\n",
       "      <td>0</td>\n",
       "      <td>0</td>\n",
       "      <td>5.81</td>\n",
       "      <td>415</td>\n",
       "      <td>76</td>\n",
       "      <td>MA</td>\n",
       "      <td>14.6</td>\n",
       "      <td>...</td>\n",
       "      <td>30.31</td>\n",
       "      <td>16.07</td>\n",
       "      <td>no</td>\n",
       "      <td>3.94</td>\n",
       "      <td>NaN</td>\n",
       "      <td>5</td>\n",
       "      <td>178.3</td>\n",
       "      <td>0</td>\n",
       "      <td>320</td>\n",
       "      <td>Mid</td>\n",
       "    </tr>\n",
       "    <tr>\n",
       "      <th>805</th>\n",
       "      <td>805</td>\n",
       "      <td>93</td>\n",
       "      <td>126</td>\n",
       "      <td>0</td>\n",
       "      <td>0</td>\n",
       "      <td>14.82</td>\n",
       "      <td>415</td>\n",
       "      <td>107</td>\n",
       "      <td>NC</td>\n",
       "      <td>NaN</td>\n",
       "      <td>...</td>\n",
       "      <td>17.63</td>\n",
       "      <td>10.80</td>\n",
       "      <td>no</td>\n",
       "      <td>3.89</td>\n",
       "      <td>127.0</td>\n",
       "      <td>1</td>\n",
       "      <td>103.7</td>\n",
       "      <td>0</td>\n",
       "      <td>267</td>\n",
       "      <td>Average</td>\n",
       "    </tr>\n",
       "    <tr>\n",
       "      <th>1203</th>\n",
       "      <td>1203</td>\n",
       "      <td>87</td>\n",
       "      <td>101</td>\n",
       "      <td>1</td>\n",
       "      <td>0</td>\n",
       "      <td>9.66</td>\n",
       "      <td>415</td>\n",
       "      <td>88</td>\n",
       "      <td>KS</td>\n",
       "      <td>7.2</td>\n",
       "      <td>...</td>\n",
       "      <td>39.32</td>\n",
       "      <td>19.10</td>\n",
       "      <td>no</td>\n",
       "      <td>1.94</td>\n",
       "      <td>224.7</td>\n",
       "      <td>7</td>\n",
       "      <td>231.3</td>\n",
       "      <td>0</td>\n",
       "      <td>251</td>\n",
       "      <td>Average</td>\n",
       "    </tr>\n",
       "    <tr>\n",
       "      <th>2035</th>\n",
       "      <td>2035</td>\n",
       "      <td>96</td>\n",
       "      <td>75</td>\n",
       "      <td>1</td>\n",
       "      <td>28</td>\n",
       "      <td>7.63</td>\n",
       "      <td>510</td>\n",
       "      <td>111</td>\n",
       "      <td>DE</td>\n",
       "      <td>NaN</td>\n",
       "      <td>...</td>\n",
       "      <td>34.10</td>\n",
       "      <td>13.95</td>\n",
       "      <td>yes</td>\n",
       "      <td>0.68</td>\n",
       "      <td>164.1</td>\n",
       "      <td>5</td>\n",
       "      <td>200.6</td>\n",
       "      <td>0</td>\n",
       "      <td>393</td>\n",
       "      <td>High</td>\n",
       "    </tr>\n",
       "    <tr>\n",
       "      <th>1890</th>\n",
       "      <td>1890</td>\n",
       "      <td>114</td>\n",
       "      <td>129</td>\n",
       "      <td>4</td>\n",
       "      <td>0</td>\n",
       "      <td>9.57</td>\n",
       "      <td>510</td>\n",
       "      <td>98</td>\n",
       "      <td>WY</td>\n",
       "      <td>11.4</td>\n",
       "      <td>...</td>\n",
       "      <td>24.43</td>\n",
       "      <td>25.31</td>\n",
       "      <td>no</td>\n",
       "      <td>3.08</td>\n",
       "      <td>297.8</td>\n",
       "      <td>8</td>\n",
       "      <td>143.7</td>\n",
       "      <td>0</td>\n",
       "      <td>306</td>\n",
       "      <td>Mid</td>\n",
       "    </tr>\n",
       "    <tr>\n",
       "      <th>965</th>\n",
       "      <td>965</td>\n",
       "      <td>92</td>\n",
       "      <td>73</td>\n",
       "      <td>1</td>\n",
       "      <td>0</td>\n",
       "      <td>16.42</td>\n",
       "      <td>408</td>\n",
       "      <td>87</td>\n",
       "      <td>GA</td>\n",
       "      <td>9.1</td>\n",
       "      <td>...</td>\n",
       "      <td>26.79</td>\n",
       "      <td>16.86</td>\n",
       "      <td>no</td>\n",
       "      <td>2.46</td>\n",
       "      <td>198.3</td>\n",
       "      <td>4</td>\n",
       "      <td>157.6</td>\n",
       "      <td>0</td>\n",
       "      <td>289</td>\n",
       "      <td>Average</td>\n",
       "    </tr>\n",
       "    <tr>\n",
       "      <th>1029</th>\n",
       "      <td>1029</td>\n",
       "      <td>88</td>\n",
       "      <td>94</td>\n",
       "      <td>0</td>\n",
       "      <td>28</td>\n",
       "      <td>5.31</td>\n",
       "      <td>510</td>\n",
       "      <td>102</td>\n",
       "      <td>KS</td>\n",
       "      <td>16.1</td>\n",
       "      <td>...</td>\n",
       "      <td>39.64</td>\n",
       "      <td>9.63</td>\n",
       "      <td>yes</td>\n",
       "      <td>4.35</td>\n",
       "      <td>113.3</td>\n",
       "      <td>4</td>\n",
       "      <td>233.2</td>\n",
       "      <td>0</td>\n",
       "      <td>293</td>\n",
       "      <td>Average</td>\n",
       "    </tr>\n",
       "  </tbody>\n",
       "</table>\n",
       "<p>10 rows × 24 columns</p>\n",
       "</div>"
      ],
      "text/plain": [
       "       uid  total_facebook_statuses  account_membership_period  \\\n",
       "222    222                       60                         51   \n",
       "716    716                      151                        146   \n",
       "1034  1034                       90                         97   \n",
       "444    444                      137                        108   \n",
       "805    805                       93                        126   \n",
       "1203  1203                       87                        101   \n",
       "2035  2035                       96                         75   \n",
       "1890  1890                      114                        129   \n",
       "965    965                       92                         73   \n",
       "1029  1029                       88                         94   \n",
       "\n",
       "      service_support_calls  number_of_snaps  total_whatsapp_charge  \\\n",
       "222                       1                0                   7.59   \n",
       "716                       1                0                   7.52   \n",
       "1034                      0                0                  10.52   \n",
       "444                       0                0                   5.81   \n",
       "805                       0                0                  14.82   \n",
       "1203                      1                0                   9.66   \n",
       "2035                      1               28                   7.63   \n",
       "1890                      4                0                   9.57   \n",
       "965                       1                0                  16.42   \n",
       "1029                      0               28                   5.31   \n",
       "\n",
       "      sub_country_code  total_twitter_tweets country  total_email_characters  \\\n",
       "222                408                    64      WI                     8.9   \n",
       "716                415                    89      OK                     6.1   \n",
       "1034               510                   127      DE                     8.8   \n",
       "444                415                    76      MA                    14.6   \n",
       "805                415                   107      NC                     NaN   \n",
       "1203               415                    88      KS                     7.2   \n",
       "2035               510                   111      DE                     NaN   \n",
       "1890               510                    98      WY                    11.4   \n",
       "965                408                    87      GA                     9.1   \n",
       "1029               510                   102      KS                    16.1   \n",
       "\n",
       "            ...        total_facebook_charge  total_twitter_charge  \\\n",
       "222         ...                        33.63                 18.79   \n",
       "716         ...                        35.07                 12.63   \n",
       "1034        ...                        38.27                 23.76   \n",
       "444         ...                        30.31                 16.07   \n",
       "805         ...                        17.63                 10.80   \n",
       "1203        ...                        39.32                 19.10   \n",
       "2035        ...                        34.10                 13.95   \n",
       "1890        ...                        24.43                 25.31   \n",
       "965         ...                        26.79                 16.86   \n",
       "1029        ...                        39.64                  9.63   \n",
       "\n",
       "     snapchat_plan  total_email_charge  total_twitter_tweet_characters  \\\n",
       "222             no                2.40                           221.0   \n",
       "716             no                1.65                           148.6   \n",
       "1034            no                2.38                           279.5   \n",
       "444             no                3.94                             NaN   \n",
       "805             no                3.89                           127.0   \n",
       "1203            no                1.94                           224.7   \n",
       "2035           yes                0.68                           164.1   \n",
       "1890            no                3.08                           297.8   \n",
       "965             no                2.46                           198.3   \n",
       "1029           yes                4.35                           113.3   \n",
       "\n",
       "      total_emails total_facebook_status_characters  turn_anti_social  \\\n",
       "222              5                            197.8                 0   \n",
       "716              3                            206.3                 0   \n",
       "1034             4                            225.1                 1   \n",
       "444              5                            178.3                 0   \n",
       "805              1                            103.7                 0   \n",
       "1203             7                            231.3                 0   \n",
       "2035             5                            200.6                 0   \n",
       "1890             8                            143.7                 0   \n",
       "965              4                            157.6                 0   \n",
       "1029             4                            233.2                 0   \n",
       "\n",
       "      total_social_share  social_share_bin  \n",
       "222                  263           Average  \n",
       "716                  334               Mid  \n",
       "1034                 324               Mid  \n",
       "444                  320               Mid  \n",
       "805                  267           Average  \n",
       "1203                 251           Average  \n",
       "2035                 393              High  \n",
       "1890                 306               Mid  \n",
       "965                  289           Average  \n",
       "1029                 293           Average  \n",
       "\n",
       "[10 rows x 24 columns]"
      ]
     },
     "execution_count": 22,
     "metadata": {},
     "output_type": "execute_result"
    }
   ],
   "source": [
    "train.sample(10)"
   ]
  },
  {
   "cell_type": "code",
   "execution_count": 23,
   "metadata": {
    "collapsed": false
   },
   "outputs": [
    {
     "data": {
      "text/plain": [
       "Index(['uid', 'total_facebook_statuses', 'account_membership_period',\n",
       "       'service_support_calls', 'number_of_snaps', 'total_whatsapp_charge',\n",
       "       'sub_country_code', 'total_twitter_tweets', 'country',\n",
       "       'total_email_characters', 'email_plan', 'total_whatsapp_msg_characters',\n",
       "       'social_account_number', 'total_whatsapp_msgs', 'total_facebook_charge',\n",
       "       'total_twitter_charge', 'snapchat_plan', 'total_email_charge',\n",
       "       'total_twitter_tweet_characters', 'total_emails',\n",
       "       'total_facebook_status_characters', 'turn_anti_social',\n",
       "       'total_social_share', 'social_share_bin'],\n",
       "      dtype='object')"
      ]
     },
     "execution_count": 23,
     "metadata": {},
     "output_type": "execute_result"
    }
   ],
   "source": [
    "train.columns"
   ]
  },
  {
   "cell_type": "code",
   "execution_count": 24,
   "metadata": {
    "collapsed": false
   },
   "outputs": [
    {
     "data": {
      "text/plain": [
       "<matplotlib.axes._subplots.AxesSubplot at 0x18c71e6668>"
      ]
     },
     "execution_count": 24,
     "metadata": {},
     "output_type": "execute_result"
    },
    {
     "data": {
      "image/png": "[encoded data removed]",
      "text/plain": [
       "<Figure size 648x432 with 2 Axes>"
      ]
     },
     "metadata": {},
     "output_type": "display_data"
    }
   ],
   "source": [
    "matrix = train.corr()\n",
    "f, ax = plt.subplots(figsize=(9, 6))\n",
    "sns.heatmap(matrix, vmax=.8, square=True, cmap=\"BuPu\")"
   ]
  },
  {
   "cell_type": "code",
   "execution_count": 25,
   "metadata": {
    "collapsed": false
   },
   "outputs": [
    {
     "data": {
      "text/plain": [
       "uid                                   0\n",
       "total_facebook_statuses               0\n",
       "account_membership_period             0\n",
       "service_support_calls                 0\n",
       "number_of_snaps                       0\n",
       "total_whatsapp_charge               212\n",
       "sub_country_code                      0\n",
       "total_twitter_tweets                  0\n",
       "country                               0\n",
       "total_email_characters              217\n",
       "email_plan                            0\n",
       "total_whatsapp_msg_characters         0\n",
       "social_account_number                 0\n",
       "total_whatsapp_msgs                   0\n",
       "total_facebook_charge                 0\n",
       "total_twitter_charge                  0\n",
       "snapchat_plan                         0\n",
       "total_email_charge                    0\n",
       "total_twitter_tweet_characters      214\n",
       "total_emails                          0\n",
       "total_facebook_status_characters    215\n",
       "turn_anti_social                      0\n",
       "total_social_share                    0\n",
       "social_share_bin                      0\n",
       "dtype: int64"
      ]
     },
     "execution_count": 25,
     "metadata": {},
     "output_type": "execute_result"
    }
   ],
   "source": [
    "train.isnull().sum()"
   ]
  },
  {
   "cell_type": "code",
   "execution_count": 26,
   "metadata": {
    "collapsed": true
   },
   "outputs": [],
   "source": [
    "train['total_whatsapp_charge'].fillna(train['total_whatsapp_charge'].mode()[0], inplace=True)\n",
    "train['total_email_characters'].fillna(train['total_email_characters'].mode()[0], inplace=True)\n",
    "train['total_twitter_tweet_characters'].fillna(train['total_twitter_tweet_characters'].mode()[0], inplace=True)\n",
    "train['total_facebook_status_characters'].fillna(train['total_facebook_status_characters'].mode()[0], inplace=True)"
   ]
  },
  {
   "cell_type": "code",
   "execution_count": 27,
   "metadata": {
    "collapsed": true
   },
   "outputs": [],
   "source": [
    "train=pd.get_dummies(train)\n",
    "test=pd.get_dummies(test)"
   ]
  },
  {
   "cell_type": "code",
   "execution_count": 28,
   "metadata": {
    "collapsed": false
   },
   "outputs": [],
   "source": [
    "from sklearn.model_selection import train_test_split\n",
    "from sklearn.linear_model import LogisticRegression\n",
    "from sklearn.model_selection import KFold\n",
    "from sklearn.metrics import accuracy_score\n",
    "from sklearn.model_selection import cross_val_score\n",
    "#from xgboost import XGBClassifier\n",
    "from sklearn import svm\n",
    "from sklearn.ensemble import RandomForestClassifier\n",
    "from sklearn.neighbors import KNeighborsClassifier\n",
    "from sklearn.naive_bayes import GaussianNB"
   ]
  },
  {
   "cell_type": "code",
   "execution_count": 29,
   "metadata": {
    "collapsed": true
   },
   "outputs": [],
   "source": [
    "X_train = train.drop('turn_anti_social', axis=1)\n",
    "y_train = train.turn_anti_social"
   ]
  },
  {
   "cell_type": "code",
   "execution_count": 30,
   "metadata": {
    "collapsed": true
   },
   "outputs": [],
   "source": [
    "x_train, x_cv, y_train, y_cv = train_test_split(X_train,y_train, test_size =0.3)"
   ]
  },
  {
   "cell_type": "markdown",
   "metadata": {},
   "source": [
    "#### Logistic Regression"
   ]
  },
  {
   "cell_type": "code",
   "execution_count": null,
   "metadata": {
    "collapsed": false
   },
   "outputs": [
    {
     "name": "stdout",
     "output_type": "stream",
     "text": [
      "Logistic Regression Accuracy: 85.35% (2.63%)\n"
     ]
    }
   ],
   "source": [
    "my_logit_model = LogisticRegression()\n",
    "my_logit_model.fit(x_train, y_train)\n",
    "\n",
    "kfold = KFold(n_splits=10, random_state=7)\n",
    "results = cross_val_score(my_logit_model, x_train, y_train, cv=kfold)\n",
    "print(\"Logistic Regression Accuracy: %.2f%% (%.2f%%)\" % (results.mean()*100, results.std()*100))"
   ]
  },
  {
   "cell_type": "markdown",
   "metadata": {},
   "source": [
    "#### SVM for Classification"
   ]
  },
  {
   "cell_type": "code",
   "execution_count": null,
   "metadata": {
    "collapsed": false
   },
   "outputs": [],
   "source": [
    "my_svm_model = svm.SVC(kernel='linear')\n",
    "my_svm_model.fit(x_train, y_train)\n",
    "\n",
    "kfold = KFold(n_splits=10, random_state=7)\n",
    "results = cross_val_score(my_svm_model, x_train, y_train, cv=kfold)\n",
    "print(\"SVM Accuracy: %.2f%% (%.2f%%)\" % (results.mean()*100, results.std()*100))"
   ]
  },
  {
   "cell_type": "markdown",
   "metadata": {},
   "source": [
    "#### Random Forest Classification"
   ]
  },
  {
   "cell_type": "code",
   "execution_count": null,
   "metadata": {
    "collapsed": true
   },
   "outputs": [],
   "source": [
    "my_forest_model = RandomForestClassifier(n_estimators=50)\n",
    "my_forest_model.fit(x_train, y_train)\n",
    "\n",
    "kfold = KFold(n_splits=10, random_state=7)\n",
    "results = cross_val_score(my_forest_model, x_train, y_train, cv=kfold)\n",
    "print(\"Random Forest Accuracy: %.2f%% (%.2f%%)\" % (results.mean()*100, results.std()*100))"
   ]
  },
  {
   "cell_type": "code",
   "execution_count": null,
   "metadata": {
    "collapsed": true
   },
   "outputs": [],
   "source": []
  },
  {
   "cell_type": "markdown",
   "metadata": {},
   "source": [
    "References:\n",
    "https://github.com/debadridtt/ZS-Associates-Data-Science-Intern-Challenge-\n",
    "https://drive.google.com/file/d/1m3rpQOqCk4GvxOzgR3Qnqk94sGHQVP80/view"
   ]
  },
  {
   "cell_type": "code",
   "execution_count": null,
   "metadata": {
    "collapsed": true
   },
   "outputs": [],
   "source": []
  }
 ],
 "metadata": {
  "anaconda-cloud": {
   "environment": null,
   "summary": "ZS Challenge for Intern Hiring",
   "url": "https://anaconda.org/santhosh790/zs-intern-challenge"
  },
  "kernelspec": {
   "display_name": "Python [spinningup]",
   "language": "python",
   "name": "Python [spinningup]"
  },
  "language_info": {
   "codemirror_mode": {
    "name": "ipython",
    "version": 3
   },
   "file_extension": ".py",
   "mimetype": "text/x-python",
   "name": "python",
   "nbconvert_exporter": "python",
   "pygments_lexer": "ipython3",
   "version": "3.6.9"
  }
 },
 "nbformat": 4,
 "nbformat_minor": 0
}
